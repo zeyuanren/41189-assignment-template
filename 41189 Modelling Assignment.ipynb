{
 "cells": [
  {
   "cell_type": "markdown",
   "metadata": {
    "toc-hr-collapsed": false
   },
   "source": [
    " **41189 Modelling Assignment — Group <num>**\n",
    " \n",
    " Topic: League of Legends(LoL) Esport Market Growth\n",
    " \n",
    " Group members:\n",
    " \n",
    " - Pinak Limaye\n",
    " - Joyee Lin\n",
    " - James Ren"
   ]
  },
  {
   "cell_type": "markdown",
   "metadata": {
    "toc-hr-collapsed": false
   },
   "source": [
    "# Introduction"
   ]
  },
  {
   "cell_type": "markdown",
   "metadata": {},
   "source": [
    "## State the problem, why it is important/relevant to you and/or more broadly to society"
   ]
  },
  {
   "cell_type": "markdown",
   "metadata": {},
   "source": [
    "The growing importance of League of Legends is vital to the esports industry as its rising popularity is forecast to achieve greater numbers in the future as a competitive game that promotes socialisation and team coordination. Understanding the importance in the gaming world will help in determining the sales that esports may bring in and its expected lifespan while also providing us with an insight into the League of Legends community and its positive impacts to society. Gaming has resulted in a new form of entertainment which has created positive personal experiences, improving many individuals’ well-being, and with the consistent growth of eSports, increases in life standards will continue to rise whilst bonding a community that shares a similar mindset."
   ]
  },
  {
   "cell_type": "markdown",
   "metadata": {
    "toc-hr-collapsed": false
   },
   "source": [
    "# Context, background information, justification"
   ]
  },
  {
   "cell_type": "markdown",
   "metadata": {},
   "source": [
    "## Research and review literature, news, digital media, drivers and how the problem is being addressed by academia, industry, government, etc."
   ]
  },
  {
   "cell_type": "markdown",
   "metadata": {},
   "source": [
    "![Rich Picture](Figures/richPicture.png)"
   ]
  },
  {
   "cell_type": "markdown",
   "metadata": {},
   "source": [
    "The Esports industry has been growing globally; “[making \\\\$463 million in direct revenue in 2016, and is expected to reach \\\\$1.1 billion by 2019](http://unsworks.unsw.edu.au/fapi/datastream/unsworks:54819/bin8449a367-a871-43aa-ac90-1bc6e6f65fe7?view=true)” . This shows the rapid growth of the industry and the fact that more people are becoming part of this growing industry. Similarly, [CNBC](https://www.cnbc.com/2019/01/20/heres-why-esports-can-become-a-billion-dollar-industry-in-2019.html) has also stated E-sports may become a billionaire industry in 2019. Thus, media, academia and literature all address the problem by comparing graphs of revenue and growth each year to predict future growth as shown in the graph below."
   ]
  },
  {
   "cell_type": "markdown",
   "metadata": {},
   "source": [
    "[![Sports market revenue graph](Figures/Market_revenue_statics_graph.png)](https://www.statista.com/statistics/490522/global-esports-market-revenue/)"
   ]
  },
  {
   "cell_type": "markdown",
   "metadata": {},
   "source": [
    "## Identify the system + stakeholders. For this, you will need to construct a “rich picture” that captures the essential elements."
   ]
  },
  {
   "cell_type": "markdown",
   "metadata": {},
   "source": [
    "![Rich Picture](Figures/Rich_pic_esports_system.png)"
   ]
  },
  {
   "cell_type": "markdown",
   "metadata": {},
   "source": [
    "Stakeholders:  \n",
    "- Players  \n",
    "- Fans  \n",
    "- League of legends  \n",
    "- Riot games  \n",
    "- Media  \n",
    "- Bookmakers  \n",
    "- Sponsors  \n",
    "- Venue  \n",
    "- Commentators  \n",
    "- Analysts  \n",
    "- Streaming services  \n",
    "- Esports event  "
   ]
  },
  {
   "cell_type": "markdown",
   "metadata": {},
   "source": [
    "Type of System: Open Complex System"
   ]
  },
  {
   "cell_type": "markdown",
   "metadata": {},
   "source": [
    "## Identify current models or prevailing frames that are being used to address the problem"
   ]
  },
  {
   "cell_type": "markdown",
   "metadata": {},
   "source": [
    "The current models that are being used to address the problem of predicting future growth of the e-sport industry would be statistical modelling and regression analysis. Both models analyse the trends of growth through comparing graphs depicting growth and income rates."
   ]
  },
  {
   "cell_type": "markdown",
   "metadata": {},
   "source": [
    "Another model that is often used for predicting future viewership are machine learning models or [forecasting](https://en.wikipedia.org/wiki/Forecasting) models. Although this is only a possible model used in esports and not confirmed. [However it has been used to predict the viewership of television shows](https://www.researchgate.net/publication/332530593_Forecasting_the_Success_of_Television_Series_using_Machine_Learning)."
   ]
  },
  {
   "cell_type": "markdown",
   "metadata": {},
   "source": [
    "Some other models and other frameworks that are being used to help assist the growth of league of legend esports are ingame incentives, large amounts of advertising and being free to play. These frameworks seem to work perfectly well"
   ]
  },
  {
   "cell_type": "markdown",
   "metadata": {},
   "source": [
    "## Discuss how prevailing models/frames are preventing the problem from being fully addressed or solved"
   ]
  },
  {
   "cell_type": "markdown",
   "metadata": {},
   "source": [
    "The prevailing models are preventing the problem from fully being solved due to the sudden appearance of the coronavirus pandemic. According to Grand Review Research “[amidst COVID-19, only 8% of live events are canceled, 26% have been postponed, 13% remains on schedule, and a sizable 53% are shifted to the online platform.](https://www.grandviewresearch.com/industry-analysis/esports-market)”. As a result, this event has created an unforeseeable future growth as current models cannot account for it as previous years of data and statistics displaying growth cannot be utilised."
   ]
  },
  {
   "cell_type": "markdown",
   "metadata": {},
   "source": [
    "Other models such as machine learning and forecast models also fail for a similar reason. The issue for a machine learning model is a lack of user modification. An inherent issue with a machine learning model is that there is no way of knowing what is going on within the model. So when an unknown factor comes into play, such as the corona virus, it is impossible to modify the model to work with the new factor unless the factor was already pre built within it. Forecast models usually run on previous maths which does not work in COVID situations. However, forecast models can work and this is because dampening factors can be changed."
   ]
  },
  {
   "cell_type": "markdown",
   "metadata": {},
   "source": [
    "In conclusion, statistical modelling, regression analysis and machine learning models cannot account for events like the coronavirus pandemic. And the shift caused by the coronavirus will cause struggles predicting the viewership/revenue for future years as there will be a massive outlier for one whole year, which will greatly skew the data. And there may be long term knock on effects which may cause other unpredictable drops."
   ]
  },
  {
   "cell_type": "markdown",
   "metadata": {
    "toc-hr-collapsed": false
   },
   "source": [
    "# Conceptual Models"
   ]
  },
  {
   "cell_type": "markdown",
   "metadata": {},
   "source": [
    "## Based on your self-study of the supermarket of models, explain the three models that you have chosen to look at the problem"
   ]
  },
  {
   "cell_type": "markdown",
   "metadata": {},
   "source": [
    "#### Markov Chain  \n",
    "The markov chain is a stochastic model that is memoryless. It can be used to describe a possible sequence of events. It is simple to run and has the property of reaching steady states."
   ]
  },
  {
   "cell_type": "markdown",
   "metadata": {},
   "source": [
    "#### SIR Model  \n",
    "A SIR model also known as the contagion model, models a virus infecting people. It grows based upon the spread, contact and cure probabilities, along with the current amount of infected people."
   ]
  },
  {
   "cell_type": "markdown",
   "metadata": {},
   "source": [
    "#### Replicator Dynamics Model  \n",
    "A replicator dynamics model takes into account both popularity and effectiveness of a trend, technique or a thing and predicts how popular it will grow based on the popularity and effectiveness of other trends, techniques or things."
   ]
  },
  {
   "cell_type": "markdown",
   "metadata": {},
   "source": [
    "#### Behavioural Model  \n",
    "Behavioural models closely monitor how people behave involving their biases or heuristics"
   ]
  },
  {
   "cell_type": "markdown",
   "metadata": {},
   "source": [
    "## Explain how each of the three models works (brief) and how it will be applied in your case."
   ]
  },
  {
   "cell_type": "markdown",
   "metadata": {},
   "source": [
    "#### Markov Chain  \n",
    "The rapid growth of the eSports community is now central to a digital youth culture that promotes global competitive gaming separated by the different eastern and western value systems. Similar to traditional sports, different cultures will prefer different sport disciplines where each region will have their own pure coordination and in these high-stake competitions, markov models can be utilised to determine outcomes through the different competitors’ “playstyle”. A Markov chain can be used to determine the probability of a certain team having an advantage over another.\n",
    "![Using markov chain to determine outcome via team playstyle](Figures/MarkovTeams.png)\n",
    "A markov chain can also be used to predict viewership growth. This can be done by creating states for \"not playing the game\", \"playing the game\" and \"watching esports\" and modelling the relationship between them."
   ]
  },
  {
   "cell_type": "markdown",
   "metadata": {},
   "source": [
    "#### SIR Model  \n",
    "The player base can be metaphorically viewed as contagious where the players and viewers are “infected” by the game which can result in them “spreading” it to other people talking about the eSports phenomena. This contagion is presented through an SIR model where the variables would include the player base, contact, spread and the chance of cure. An SIR model shows the fluctuations of a population infected with the disease where the contact can be viewed as anything that is influential such as media coverage, spread viewed as an increased number in the player base and the cure would be based on the percentage of people that leave the game. These models will allow relevant users to determine the changes in the player base as small changes in these probabilities can greatly impact the company’s business ecosystem and success.\n",
    "![A growth graph from an SIR model](Figures/SIRmodel.png)"
   ]
  },
  {
   "cell_type": "markdown",
   "metadata": {},
   "source": [
    "#### Replicator Dynamics Model  \n",
    "To obtain a greater understanding of the skills and macro gameplay in League of Legends, many players take different approaches towards improving themselves and replicating the most optimal techniques. Through a replicator dynamic model, we can analyse the growth rate of players with their intended strategy which may include watching videos to learn different theories or playing the game more to enhance their understanding of the game. Over time, we can determine the more effective strategy through each player’s in game ranking by sorting the agent types which are the strategies used, and the parameter, which will group how many use a particular strategy in our model. Replicator dynamic models capture the most prevalent strategies and have become an evolutionary dynamic for games both sociological and ecological. Replicator dynamic models can also be used to determine viewership that may migrate to lol esports, by looking at the popularity and quality of each esport league. Quality can be determined via the number of teams, frequency of games and regularity of that branch's esport games.\n",
    "![A replicator model diagram](Figures/ReplicatorDynamics.png)"
   ]
  },
  {
   "cell_type": "markdown",
   "metadata": {},
   "source": [
    "#### Behavioural Model  \n",
    "Making necessary adjustments and updates towards the game is important to keep a consistent player base which will ultimately benefit all stakeholders. Since behavioural models closely monitor how people behave involving their biases or heuristics, these observations can generate valuable data in predicting the game’s future performance. This analysis of player performance will vary according to players’ demographics and archetypes which will provide valuable insight for game developers to note if there is a high player turnover rate. This can be modelled by implementing incentives to the game, such as loot boxes, for a certain period of time compared to a period of no incentives to detect the fluctuations in the player base."
   ]
  },
  {
   "cell_type": "markdown",
   "metadata": {},
   "source": [
    "## Describe any data sources (real or hypothetical) that are needed to construct the three models. Use illustrative drawings and diagrams where possible"
   ]
  },
  {
   "cell_type": "markdown",
   "metadata": {},
   "source": [
    "#### Markov Chain  \n",
    "The markov model will require data on different league playstyles and their goals/outcomes. The other markov model which measures viewer growth needs data such as the portion of lol players that watch lol esports, amount of new players that come into lol each year and the amount of players that leave each year. It is also important to know the amount of viewers watching lol esports each year or each season."
   ]
  },
  {
   "cell_type": "markdown",
   "metadata": {},
   "source": [
    "#### SIR Model  \n",
    "For the SIR model we require the same data as the second markov model. The portion of lol players that watch lol esports, amount of new players that come into lol each year, the amount of players that leave each year and the amount of viewers watching lol esports each year or each season."
   ]
  },
  {
   "cell_type": "markdown",
   "metadata": {},
   "source": [
    "#### Replicator Dynamics Model  \n",
    "For the replicator dynamics model we need data on all the playstyles and their popularity. We will also need the win rate of the playstyle as well as its ability to counter the most popular playstyles (these can be used to determine the effectiveness of the playstyle). For the viewership replicator dynamics model, we need data on the popularity of other esport leagues and also their duration, frequency of matches and the amount of sub leagues that take place (i.e. for league of legends there is Worlds, European league, Korean league, etc) the latter three can be used to determine the effectiveness or quality of the specific esport league."
   ]
  },
  {
   "cell_type": "markdown",
   "metadata": {},
   "source": [
    "#### Behavioural Model  \n",
    "For the behavioural model. Demographics and preferences of players is required. Also data on how players tend to act based on certain incentives or gameplay changes."
   ]
  },
  {
   "cell_type": "markdown",
   "metadata": {
    "toc-hr-collapsed": false
   },
   "source": [
    "# Implementation"
   ]
  },
  {
   "cell_type": "markdown",
   "metadata": {},
   "source": [
    "## Describe the mathematical and/or statistical implementation of your three models. This should be done using Python code."
   ]
  },
  {
   "cell_type": "code",
   "execution_count": null,
   "metadata": {},
   "outputs": [],
   "source": []
  },
  {
   "cell_type": "code",
   "execution_count": null,
   "metadata": {},
   "outputs": [],
   "source": []
  },
  {
   "cell_type": "code",
   "execution_count": null,
   "metadata": {},
   "outputs": [],
   "source": []
  },
  {
   "cell_type": "markdown",
   "metadata": {
    "toc-hr-collapsed": false
   },
   "source": [
    "# Scenario analysis, sensitivity + uncertainty evaluation"
   ]
  },
  {
   "cell_type": "markdown",
   "metadata": {},
   "source": [
    "## Establish baseline parameter sets and or configuration for output scenarios"
   ]
  },
  {
   "cell_type": "code",
   "execution_count": null,
   "metadata": {},
   "outputs": [],
   "source": []
  },
  {
   "cell_type": "code",
   "execution_count": null,
   "metadata": {},
   "outputs": [],
   "source": []
  },
  {
   "cell_type": "code",
   "execution_count": null,
   "metadata": {},
   "outputs": [],
   "source": []
  },
  {
   "cell_type": "markdown",
   "metadata": {},
   "source": [
    "## Perform a basic sensitivity analysis, i.e., identify with parameters are most sensitive/insensitive for the outputs"
   ]
  },
  {
   "cell_type": "code",
   "execution_count": null,
   "metadata": {},
   "outputs": [],
   "source": []
  },
  {
   "cell_type": "code",
   "execution_count": null,
   "metadata": {},
   "outputs": [],
   "source": []
  },
  {
   "cell_type": "code",
   "execution_count": null,
   "metadata": {},
   "outputs": [],
   "source": []
  },
  {
   "cell_type": "markdown",
   "metadata": {
    "toc-hr-collapsed": false
   },
   "source": [
    "# Proposed solutions"
   ]
  },
  {
   "cell_type": "markdown",
   "metadata": {},
   "source": [
    "## Discuss potential portfolio of solutions based on your previous analysis\n"
   ]
  },
  {
   "cell_type": "code",
   "execution_count": null,
   "metadata": {},
   "outputs": [],
   "source": []
  },
  {
   "cell_type": "code",
   "execution_count": null,
   "metadata": {},
   "outputs": [],
   "source": []
  },
  {
   "cell_type": "code",
   "execution_count": null,
   "metadata": {},
   "outputs": [],
   "source": []
  },
  {
   "cell_type": "markdown",
   "metadata": {
    "toc-hr-collapsed": false
   },
   "source": [
    "# Reflection on group + individual approach to assignment"
   ]
  },
  {
   "cell_type": "markdown",
   "metadata": {},
   "source": [
    "## Each student should discuss their experiences about working on the project. The document should be no more than 1000 words per group member. It should discuss following key aspects:\n",
    "\n",
    "- Your contribution in the project\n",
    "- Other group members’ contributions\n",
    "- What positives do you take from this project? What did you learn from this project?\n",
    "- What challenges did you face in this project and how you overcame those?\n",
    "- If you are faced with dealing with a real-world problem and need to do some modelling, how would you determine which modelling approach to take. Justify your response."
   ]
  },
  {
   "cell_type": "markdown",
   "metadata": {},
   "source": [
    "### Group member 1 reflection \n",
    "Intro to Human Centered Complex Systems was overall a good subject. Although it was a little bit confusing at times, I gained a lot from it. It made me think about everything in different ways. Especially my games, since I play a lot of games. And because of this project, I now see markov chains in my dreams. And several systems in the world around me. For this project, I worked on  2, 3, 4 and 5(Markov Models). My group members also worked on the other things as well as parts of 2, 3 and 5. I also did all of 4 because I have experience in coding. I also moved all the work from google docs to Jupyter Lab for the pre submission. This was because I was the only one who got my git working.  And also because I knew how to use markdown. I wasn't able to move things into Jupyter Lab for the final submission because my computer broke. The positives I took from this project were the versatility of models and how they could be shaped to different situations. The main thing I learnt was the importance of having enough data. Because the data we found was incredibly lacking as discussed above. This was also the biggest challenge we faced, and sadly we could not tackle it. I tried to remedy the missing data with extrapolation, but it's patchwork at best. Trying to shape the data to fit the model is very difficult. Another challenge I encountered was my computer breaking. This meant that I didn't have my usual programming set up and could no longer use git. So for the programming and the assignment, I typed it up in google docs with my phone. And for the git, I got one of my teammates set up so they could also submit. If I was faced with a real life problem. I would look through my human centered complex systems notebook and use all the models that sound vaguely similar to my situation or have a similar concept or idea. Then I would try to use them all. Basically throw every single dart at the wall and see what sticks. If I throw enough, one of them will work. Furthermore wisdom of the crowd shows that several somewhat correct answers creates an overall accurate one."

   ]
  },
  {
   "cell_type": "code",
   "execution_count": null,
   "metadata": {},
   "outputs": [],
   "source": []
  },
  {
   "cell_type": "markdown",
   "metadata": {},
   "source": [
    "### Group member 2 reflection"
   ]
  },
  {
   "cell_type": "code",
   "execution_count": null,
   "metadata": {},
   "outputs": [],
   "source": []
  },
  {
   "cell_type": "markdown",
   "metadata": {},
   "source": [
    "### Group member 3 reflection"
   ]
  },
  {
   "cell_type": "code",
   "execution_count": null,
   "metadata": {},
   "outputs": [],
   "source": []
  },
  {
   "cell_type": "markdown",
   "metadata": {},
   "source": [
    "### Group member 4 reflection"
   ]
  },
  {
   "cell_type": "code",
   "execution_count": null,
   "metadata": {},
   "outputs": [],
   "source": []
  }
 ],
 "metadata": {
  "kernelspec": {
   "display_name": "Python 3",
   "language": "python",
   "name": "python3"
  },
  "language_info": {
   "codemirror_mode": {
    "name": "ipython",
    "version": 3
   },
   "file_extension": ".py",
   "mimetype": "text/x-python",
   "name": "python",
   "nbconvert_exporter": "python",
   "pygments_lexer": "ipython3",
   "version": "3.6.4"
  },
  "toc-autonumbering": true
 },
 "nbformat": 4,
 "nbformat_minor": 4
}
